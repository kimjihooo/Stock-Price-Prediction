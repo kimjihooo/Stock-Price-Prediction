{
  "nbformat": 4,
  "nbformat_minor": 0,
  "metadata": {
    "colab": {
      "provenance": [],
      "toc_visible": true
    },
    "kernelspec": {
      "name": "python3",
      "display_name": "Python 3"
    },
    "language_info": {
      "name": "python"
    }
  },
  "cells": [
    {
      "cell_type": "markdown",
      "source": [
        "# 코스피50 주가 예측\n",
        "데이터 출처:\n",
        "http://data.krx.co.kr/contents/MDC/MDI/mdiLoader/index.cmd?menuId=MDC0201010106"
      ],
      "metadata": {
        "id": "tLJ3XROppQmu"
      }
    },
    {
      "cell_type": "markdown",
      "source": [
        "## (2) 분류모델"
      ],
      "metadata": {
        "id": "OuF2fZ8O8y28"
      }
    },
    {
      "cell_type": "code",
      "source": [
        "!pip install catboost"
      ],
      "metadata": {
        "id": "CMdtY2yIJ-NG"
      },
      "execution_count": null,
      "outputs": []
    },
    {
      "cell_type": "code",
      "source": [
        "import pandas as pd\n",
        "import numpy as np\n",
        "import datetime\n",
        "\n",
        "import warnings\n",
        "warnings.filterwarnings('ignore')"
      ],
      "metadata": {
        "id": "LL_R7Zk4B3kA"
      },
      "execution_count": null,
      "outputs": []
    },
    {
      "cell_type": "code",
      "source": [
        "from sklearn.metrics import accuracy_score,recall_score,confusion_matrix,classification_report\n",
        "from sklearn.model_selection import train_test_split\n",
        "\n",
        "from sklearn.model_selection import cross_val_score\n",
        "from xgboost import XGBClassifier, XGBRFClassifier\n",
        "from lightgbm import LGBMClassifier\n",
        "from catboost import CatBoostClassifier\n",
        "\n",
        "from sklearn.ensemble import RandomForestClassifier\n",
        "from sklearn.tree import DecisionTreeClassifier\n",
        "from sklearn.linear_model import LogisticRegression\n",
        "from sklearn.linear_model import Lasso, Ridge\n",
        "from sklearn.discriminant_analysis import LinearDiscriminantAnalysis, QuadraticDiscriminantAnalysis\n",
        "\n",
        "from sklearn.model_selection import GridSearchCV, cross_val_score, RandomizedSearchCV\n",
        "from sklearn.model_selection import KFold, StratifiedKFold\n",
        "\n",
        "from sklearn.ensemble import StackingClassifier"
      ],
      "metadata": {
        "id": "e9oU3R_8sSo2"
      },
      "execution_count": null,
      "outputs": []
    },
    {
      "cell_type": "code",
      "source": [
        "pd.set_option('display.max_columns',None)"
      ],
      "metadata": {
        "id": "wSnAj58rqw7b"
      },
      "execution_count": null,
      "outputs": []
    },
    {
      "cell_type": "code",
      "source": [
        "df = pd.read_csv('/content/drive/MyDrive/데이터/주가예측/1210df.csv')"
      ],
      "metadata": {
        "id": "dvJbt24fBsrP"
      },
      "execution_count": null,
      "outputs": []
    },
    {
      "cell_type": "code",
      "source": [
        "df['date'] = pd.to_datetime(df['date'])"
      ],
      "metadata": {
        "id": "DaKzIBvkB282"
      },
      "execution_count": null,
      "outputs": []
    },
    {
      "cell_type": "code",
      "source": [
        "def make_code(x):\n",
        "    x = str(x)\n",
        "    return '0'*(6-len(x)) + x"
      ],
      "metadata": {
        "id": "RnKtbefTCFcJ"
      },
      "execution_count": null,
      "outputs": []
    },
    {
      "cell_type": "code",
      "source": [
        "df['code'] = df['code'].apply(make_code)"
      ],
      "metadata": {
        "id": "5PfnntuYCFcL"
      },
      "execution_count": null,
      "outputs": []
    },
    {
      "cell_type": "code",
      "source": [
        "df.head()"
      ],
      "metadata": {
        "colab": {
          "base_uri": "https://localhost:8080/",
          "height": 357
        },
        "id": "54oWaE3ZCKwQ",
        "outputId": "2b6dd1fc-19e0-4d7f-cefb-374009c6e328"
      },
      "execution_count": null,
      "outputs": [
        {
          "output_type": "execute_result",
          "data": {
            "text/plain": [
              "     code       date  increase    Open1    High1     Low1   Close1  \\\n",
              "0  005930 2020-01-02         0  56200.0  56600.0  55700.0  55800.0   \n",
              "1  005930 2020-01-03         1  55500.0  56000.0  55000.0  55200.0   \n",
              "2  005930 2020-01-06         0  56000.0  56600.0  54900.0  55500.0   \n",
              "3  005930 2020-01-07         1  54900.0  55600.0  54600.0  55500.0   \n",
              "4  005930 2020-01-08         1  55700.0  56400.0  55600.0  55800.0   \n",
              "\n",
              "      Volume1   Change1    Open3    High3     Low3   Close3     Volume3  \\\n",
              "0   8356767.0 -0.012389  54700.0  55400.0  54400.0  55400.0   9645034.0   \n",
              "1  12993228.0 -0.010753  55700.0  56900.0  55500.0  56500.0  12313056.0   \n",
              "2  15422255.0  0.005435  56200.0  56600.0  55700.0  55800.0   8356767.0   \n",
              "3  10278951.0  0.000000  55500.0  56000.0  55000.0  55200.0  12993228.0   \n",
              "4  10009778.0  0.005405  56000.0  56600.0  54900.0  55500.0  15422255.0   \n",
              "\n",
              "    Change3    Open7    High7     Low7   Close7     Volume7   Change7  \\\n",
              "0  0.007273  57000.0  57300.0  55500.0  56000.0  14180520.0 -0.005329   \n",
              "1  0.019856  56100.0  56500.0  55600.0  56000.0  12095519.0  0.000000   \n",
              "2 -0.012389  56100.0  56400.0  55100.0  55500.0   9839252.0 -0.008929   \n",
              "3 -0.010753  55600.0  55700.0  54800.0  55000.0  11868463.0 -0.009009   \n",
              "4  0.005435  54700.0  55400.0  54400.0  55400.0   9645034.0  0.007273   \n",
              "\n",
              "   diff_se1  diff_se3  diff_se7  diff_lh1  diff_lh3  diff_lh7  \\\n",
              "0     400.0    -700.0    1000.0    -900.0   -1000.0   -1800.0   \n",
              "1     300.0    -800.0     100.0   -1000.0   -1400.0    -900.0   \n",
              "2     500.0     400.0     600.0   -1700.0    -900.0   -1300.0   \n",
              "3    -600.0     300.0     600.0   -1000.0   -1000.0    -900.0   \n",
              "4    -100.0     500.0    -700.0    -800.0   -1700.0   -1000.0   \n",
              "\n",
              "   close_variation  volume_variation  kospi_close1     USD/KRW1   JPY/KRW1  \\\n",
              "0        50.000000     993946.357143   2197.669922  1153.750000  10.615540   \n",
              "1        96.428571    -136013.321429   2175.169922  1153.969971  10.615074   \n",
              "2       -10.714286    -744625.964286   2176.459961  1157.150024  10.659966   \n",
              "3       -78.571429     186902.964286   2155.070068  1165.849976  10.798657   \n",
              "4       -60.714286    -258435.607143   2175.540039  1167.420044  10.756629   \n",
              "\n",
              "    BTC/KRW1  \n",
              "0  8315985.5  \n",
              "1  8084144.5  \n",
              "2  8641188.0  \n",
              "3  9069786.0  \n",
              "4  9530784.0  "
            ],
            "text/html": [
              "\n",
              "  <div id=\"df-27ea9dd0-1386-44ae-b5f2-3206efd0dd11\">\n",
              "    <div class=\"colab-df-container\">\n",
              "      <div>\n",
              "<style scoped>\n",
              "    .dataframe tbody tr th:only-of-type {\n",
              "        vertical-align: middle;\n",
              "    }\n",
              "\n",
              "    .dataframe tbody tr th {\n",
              "        vertical-align: top;\n",
              "    }\n",
              "\n",
              "    .dataframe thead th {\n",
              "        text-align: right;\n",
              "    }\n",
              "</style>\n",
              "<table border=\"1\" class=\"dataframe\">\n",
              "  <thead>\n",
              "    <tr style=\"text-align: right;\">\n",
              "      <th></th>\n",
              "      <th>code</th>\n",
              "      <th>date</th>\n",
              "      <th>increase</th>\n",
              "      <th>Open1</th>\n",
              "      <th>High1</th>\n",
              "      <th>Low1</th>\n",
              "      <th>Close1</th>\n",
              "      <th>Volume1</th>\n",
              "      <th>Change1</th>\n",
              "      <th>Open3</th>\n",
              "      <th>High3</th>\n",
              "      <th>Low3</th>\n",
              "      <th>Close3</th>\n",
              "      <th>Volume3</th>\n",
              "      <th>Change3</th>\n",
              "      <th>Open7</th>\n",
              "      <th>High7</th>\n",
              "      <th>Low7</th>\n",
              "      <th>Close7</th>\n",
              "      <th>Volume7</th>\n",
              "      <th>Change7</th>\n",
              "      <th>diff_se1</th>\n",
              "      <th>diff_se3</th>\n",
              "      <th>diff_se7</th>\n",
              "      <th>diff_lh1</th>\n",
              "      <th>diff_lh3</th>\n",
              "      <th>diff_lh7</th>\n",
              "      <th>close_variation</th>\n",
              "      <th>volume_variation</th>\n",
              "      <th>kospi_close1</th>\n",
              "      <th>USD/KRW1</th>\n",
              "      <th>JPY/KRW1</th>\n",
              "      <th>BTC/KRW1</th>\n",
              "    </tr>\n",
              "  </thead>\n",
              "  <tbody>\n",
              "    <tr>\n",
              "      <th>0</th>\n",
              "      <td>005930</td>\n",
              "      <td>2020-01-02</td>\n",
              "      <td>0</td>\n",
              "      <td>56200.0</td>\n",
              "      <td>56600.0</td>\n",
              "      <td>55700.0</td>\n",
              "      <td>55800.0</td>\n",
              "      <td>8356767.0</td>\n",
              "      <td>-0.012389</td>\n",
              "      <td>54700.0</td>\n",
              "      <td>55400.0</td>\n",
              "      <td>54400.0</td>\n",
              "      <td>55400.0</td>\n",
              "      <td>9645034.0</td>\n",
              "      <td>0.007273</td>\n",
              "      <td>57000.0</td>\n",
              "      <td>57300.0</td>\n",
              "      <td>55500.0</td>\n",
              "      <td>56000.0</td>\n",
              "      <td>14180520.0</td>\n",
              "      <td>-0.005329</td>\n",
              "      <td>400.0</td>\n",
              "      <td>-700.0</td>\n",
              "      <td>1000.0</td>\n",
              "      <td>-900.0</td>\n",
              "      <td>-1000.0</td>\n",
              "      <td>-1800.0</td>\n",
              "      <td>50.000000</td>\n",
              "      <td>993946.357143</td>\n",
              "      <td>2197.669922</td>\n",
              "      <td>1153.750000</td>\n",
              "      <td>10.615540</td>\n",
              "      <td>8315985.5</td>\n",
              "    </tr>\n",
              "    <tr>\n",
              "      <th>1</th>\n",
              "      <td>005930</td>\n",
              "      <td>2020-01-03</td>\n",
              "      <td>1</td>\n",
              "      <td>55500.0</td>\n",
              "      <td>56000.0</td>\n",
              "      <td>55000.0</td>\n",
              "      <td>55200.0</td>\n",
              "      <td>12993228.0</td>\n",
              "      <td>-0.010753</td>\n",
              "      <td>55700.0</td>\n",
              "      <td>56900.0</td>\n",
              "      <td>55500.0</td>\n",
              "      <td>56500.0</td>\n",
              "      <td>12313056.0</td>\n",
              "      <td>0.019856</td>\n",
              "      <td>56100.0</td>\n",
              "      <td>56500.0</td>\n",
              "      <td>55600.0</td>\n",
              "      <td>56000.0</td>\n",
              "      <td>12095519.0</td>\n",
              "      <td>0.000000</td>\n",
              "      <td>300.0</td>\n",
              "      <td>-800.0</td>\n",
              "      <td>100.0</td>\n",
              "      <td>-1000.0</td>\n",
              "      <td>-1400.0</td>\n",
              "      <td>-900.0</td>\n",
              "      <td>96.428571</td>\n",
              "      <td>-136013.321429</td>\n",
              "      <td>2175.169922</td>\n",
              "      <td>1153.969971</td>\n",
              "      <td>10.615074</td>\n",
              "      <td>8084144.5</td>\n",
              "    </tr>\n",
              "    <tr>\n",
              "      <th>2</th>\n",
              "      <td>005930</td>\n",
              "      <td>2020-01-06</td>\n",
              "      <td>0</td>\n",
              "      <td>56000.0</td>\n",
              "      <td>56600.0</td>\n",
              "      <td>54900.0</td>\n",
              "      <td>55500.0</td>\n",
              "      <td>15422255.0</td>\n",
              "      <td>0.005435</td>\n",
              "      <td>56200.0</td>\n",
              "      <td>56600.0</td>\n",
              "      <td>55700.0</td>\n",
              "      <td>55800.0</td>\n",
              "      <td>8356767.0</td>\n",
              "      <td>-0.012389</td>\n",
              "      <td>56100.0</td>\n",
              "      <td>56400.0</td>\n",
              "      <td>55100.0</td>\n",
              "      <td>55500.0</td>\n",
              "      <td>9839252.0</td>\n",
              "      <td>-0.008929</td>\n",
              "      <td>500.0</td>\n",
              "      <td>400.0</td>\n",
              "      <td>600.0</td>\n",
              "      <td>-1700.0</td>\n",
              "      <td>-900.0</td>\n",
              "      <td>-1300.0</td>\n",
              "      <td>-10.714286</td>\n",
              "      <td>-744625.964286</td>\n",
              "      <td>2176.459961</td>\n",
              "      <td>1157.150024</td>\n",
              "      <td>10.659966</td>\n",
              "      <td>8641188.0</td>\n",
              "    </tr>\n",
              "    <tr>\n",
              "      <th>3</th>\n",
              "      <td>005930</td>\n",
              "      <td>2020-01-07</td>\n",
              "      <td>1</td>\n",
              "      <td>54900.0</td>\n",
              "      <td>55600.0</td>\n",
              "      <td>54600.0</td>\n",
              "      <td>55500.0</td>\n",
              "      <td>10278951.0</td>\n",
              "      <td>0.000000</td>\n",
              "      <td>55500.0</td>\n",
              "      <td>56000.0</td>\n",
              "      <td>55000.0</td>\n",
              "      <td>55200.0</td>\n",
              "      <td>12993228.0</td>\n",
              "      <td>-0.010753</td>\n",
              "      <td>55600.0</td>\n",
              "      <td>55700.0</td>\n",
              "      <td>54800.0</td>\n",
              "      <td>55000.0</td>\n",
              "      <td>11868463.0</td>\n",
              "      <td>-0.009009</td>\n",
              "      <td>-600.0</td>\n",
              "      <td>300.0</td>\n",
              "      <td>600.0</td>\n",
              "      <td>-1000.0</td>\n",
              "      <td>-1000.0</td>\n",
              "      <td>-900.0</td>\n",
              "      <td>-78.571429</td>\n",
              "      <td>186902.964286</td>\n",
              "      <td>2155.070068</td>\n",
              "      <td>1165.849976</td>\n",
              "      <td>10.798657</td>\n",
              "      <td>9069786.0</td>\n",
              "    </tr>\n",
              "    <tr>\n",
              "      <th>4</th>\n",
              "      <td>005930</td>\n",
              "      <td>2020-01-08</td>\n",
              "      <td>1</td>\n",
              "      <td>55700.0</td>\n",
              "      <td>56400.0</td>\n",
              "      <td>55600.0</td>\n",
              "      <td>55800.0</td>\n",
              "      <td>10009778.0</td>\n",
              "      <td>0.005405</td>\n",
              "      <td>56000.0</td>\n",
              "      <td>56600.0</td>\n",
              "      <td>54900.0</td>\n",
              "      <td>55500.0</td>\n",
              "      <td>15422255.0</td>\n",
              "      <td>0.005435</td>\n",
              "      <td>54700.0</td>\n",
              "      <td>55400.0</td>\n",
              "      <td>54400.0</td>\n",
              "      <td>55400.0</td>\n",
              "      <td>9645034.0</td>\n",
              "      <td>0.007273</td>\n",
              "      <td>-100.0</td>\n",
              "      <td>500.0</td>\n",
              "      <td>-700.0</td>\n",
              "      <td>-800.0</td>\n",
              "      <td>-1700.0</td>\n",
              "      <td>-1000.0</td>\n",
              "      <td>-60.714286</td>\n",
              "      <td>-258435.607143</td>\n",
              "      <td>2175.540039</td>\n",
              "      <td>1167.420044</td>\n",
              "      <td>10.756629</td>\n",
              "      <td>9530784.0</td>\n",
              "    </tr>\n",
              "  </tbody>\n",
              "</table>\n",
              "</div>\n",
              "      <button class=\"colab-df-convert\" onclick=\"convertToInteractive('df-27ea9dd0-1386-44ae-b5f2-3206efd0dd11')\"\n",
              "              title=\"Convert this dataframe to an interactive table.\"\n",
              "              style=\"display:none;\">\n",
              "        \n",
              "  <svg xmlns=\"http://www.w3.org/2000/svg\" height=\"24px\"viewBox=\"0 0 24 24\"\n",
              "       width=\"24px\">\n",
              "    <path d=\"M0 0h24v24H0V0z\" fill=\"none\"/>\n",
              "    <path d=\"M18.56 5.44l.94 2.06.94-2.06 2.06-.94-2.06-.94-.94-2.06-.94 2.06-2.06.94zm-11 1L8.5 8.5l.94-2.06 2.06-.94-2.06-.94L8.5 2.5l-.94 2.06-2.06.94zm10 10l.94 2.06.94-2.06 2.06-.94-2.06-.94-.94-2.06-.94 2.06-2.06.94z\"/><path d=\"M17.41 7.96l-1.37-1.37c-.4-.4-.92-.59-1.43-.59-.52 0-1.04.2-1.43.59L10.3 9.45l-7.72 7.72c-.78.78-.78 2.05 0 2.83L4 21.41c.39.39.9.59 1.41.59.51 0 1.02-.2 1.41-.59l7.78-7.78 2.81-2.81c.8-.78.8-2.07 0-2.86zM5.41 20L4 18.59l7.72-7.72 1.47 1.35L5.41 20z\"/>\n",
              "  </svg>\n",
              "      </button>\n",
              "      \n",
              "  <style>\n",
              "    .colab-df-container {\n",
              "      display:flex;\n",
              "      flex-wrap:wrap;\n",
              "      gap: 12px;\n",
              "    }\n",
              "\n",
              "    .colab-df-convert {\n",
              "      background-color: #E8F0FE;\n",
              "      border: none;\n",
              "      border-radius: 50%;\n",
              "      cursor: pointer;\n",
              "      display: none;\n",
              "      fill: #1967D2;\n",
              "      height: 32px;\n",
              "      padding: 0 0 0 0;\n",
              "      width: 32px;\n",
              "    }\n",
              "\n",
              "    .colab-df-convert:hover {\n",
              "      background-color: #E2EBFA;\n",
              "      box-shadow: 0px 1px 2px rgba(60, 64, 67, 0.3), 0px 1px 3px 1px rgba(60, 64, 67, 0.15);\n",
              "      fill: #174EA6;\n",
              "    }\n",
              "\n",
              "    [theme=dark] .colab-df-convert {\n",
              "      background-color: #3B4455;\n",
              "      fill: #D2E3FC;\n",
              "    }\n",
              "\n",
              "    [theme=dark] .colab-df-convert:hover {\n",
              "      background-color: #434B5C;\n",
              "      box-shadow: 0px 1px 3px 1px rgba(0, 0, 0, 0.15);\n",
              "      filter: drop-shadow(0px 1px 2px rgba(0, 0, 0, 0.3));\n",
              "      fill: #FFFFFF;\n",
              "    }\n",
              "  </style>\n",
              "\n",
              "      <script>\n",
              "        const buttonEl =\n",
              "          document.querySelector('#df-27ea9dd0-1386-44ae-b5f2-3206efd0dd11 button.colab-df-convert');\n",
              "        buttonEl.style.display =\n",
              "          google.colab.kernel.accessAllowed ? 'block' : 'none';\n",
              "\n",
              "        async function convertToInteractive(key) {\n",
              "          const element = document.querySelector('#df-27ea9dd0-1386-44ae-b5f2-3206efd0dd11');\n",
              "          const dataTable =\n",
              "            await google.colab.kernel.invokeFunction('convertToInteractive',\n",
              "                                                     [key], {});\n",
              "          if (!dataTable) return;\n",
              "\n",
              "          const docLinkHtml = 'Like what you see? Visit the ' +\n",
              "            '<a target=\"_blank\" href=https://colab.research.google.com/notebooks/data_table.ipynb>data table notebook</a>'\n",
              "            + ' to learn more about interactive tables.';\n",
              "          element.innerHTML = '';\n",
              "          dataTable['output_type'] = 'display_data';\n",
              "          await google.colab.output.renderOutput(dataTable, element);\n",
              "          const docLink = document.createElement('div');\n",
              "          docLink.innerHTML = docLinkHtml;\n",
              "          element.appendChild(docLink);\n",
              "        }\n",
              "      </script>\n",
              "    </div>\n",
              "  </div>\n",
              "  "
            ]
          },
          "metadata": {},
          "execution_count": 10
        }
      ]
    },
    {
      "cell_type": "code",
      "source": [
        "df.describe()"
      ],
      "metadata": {
        "colab": {
          "base_uri": "https://localhost:8080/",
          "height": 364
        },
        "id": "QJhLLBm1CQHe",
        "outputId": "0ddf6a71-f2e2-4b1d-e78f-323a502c539b"
      },
      "execution_count": null,
      "outputs": [
        {
          "output_type": "execute_result",
          "data": {
            "text/plain": [
              "           increase         Open1         High1          Low1        Close1  \\\n",
              "count  33172.000000  3.317200e+04  3.317200e+04  3.317200e+04  3.317200e+04   \n",
              "mean       0.464006  2.017565e+05  2.049055e+05  1.985850e+05  2.017048e+05   \n",
              "std        0.498710  2.476302e+05  2.509438e+05  2.440305e+05  2.472631e+05   \n",
              "min        0.000000  0.000000e+00  0.000000e+00  0.000000e+00  2.190000e+03   \n",
              "25%        0.000000  5.752250e+04  5.840000e+04  5.677400e+04  5.780000e+04   \n",
              "50%        0.000000  1.225000e+05  1.245000e+05  1.210000e+05  1.225000e+05   \n",
              "75%        1.000000  2.260000e+05  2.300000e+05  2.225000e+05  2.255550e+05   \n",
              "max        1.000000  1.770000e+06  1.784000e+06  1.756000e+06  1.770000e+06   \n",
              "\n",
              "            Volume1       Change1         Open3         High3          Low3  \\\n",
              "count  3.317200e+04  33172.000000  3.317200e+04  3.317200e+04  3.317200e+04   \n",
              "mean   1.428931e+06      0.000363  2.017371e+05  2.048848e+05  1.985628e+05   \n",
              "std    3.409891e+06      0.025825  2.476088e+05  2.509211e+05  2.440065e+05   \n",
              "min    0.000000e+00     -0.248705  0.000000e+00  0.000000e+00  0.000000e+00   \n",
              "25%    2.115848e+05     -0.013158  5.758250e+04  5.840000e+04  5.678225e+04   \n",
              "50%    4.863900e+05      0.000000  1.230000e+05  1.250000e+05  1.210000e+05   \n",
              "75%    1.312620e+06      0.011641  2.260000e+05  2.300000e+05  2.225000e+05   \n",
              "max    9.030618e+07      0.299238  1.770000e+06  1.784000e+06  1.756000e+06   \n",
              "\n",
              "             Close3       Volume3       Change3         Open7         High7  \\\n",
              "count  3.317200e+04  3.317200e+04  33172.000000  3.317200e+04  3.317200e+04   \n",
              "mean   2.016802e+05  1.429929e+06      0.000322  2.017228e+05  2.048668e+05   \n",
              "std    2.472369e+05  3.412104e+06      0.025843  2.475865e+05  2.508881e+05   \n",
              "min    2.190000e+03  0.000000e+00     -0.248705  0.000000e+00  0.000000e+00   \n",
              "25%    5.780000e+04  2.117002e+05     -0.013217  5.750000e+04  5.840000e+04   \n",
              "50%    1.230000e+05  4.869240e+05      0.000000  1.230000e+05  1.250000e+05   \n",
              "75%    2.260000e+05  1.313186e+06      0.011616  2.265000e+05  2.300000e+05   \n",
              "max    1.770000e+06  9.030618e+07      0.299238  1.770000e+06  1.784000e+06   \n",
              "\n",
              "               Low7        Close7       Volume7       Change7       diff_se1  \\\n",
              "count  3.317200e+04  3.317200e+04  3.317200e+04  33172.000000   33172.000000   \n",
              "mean   1.985432e+05  2.016610e+05  1.435526e+06      0.000338      51.703033   \n",
              "std    2.439864e+05  2.472114e+05  3.427107e+06      0.026004    7451.026571   \n",
              "min    0.000000e+00  2.190000e+03  0.000000e+00     -0.248705 -196000.000000   \n",
              "25%    5.677400e+04  5.780000e+04  2.119492e+05     -0.013158   -1000.000000   \n",
              "50%    1.210000e+05  1.230000e+05  4.886070e+05      0.000000      40.000000   \n",
              "75%    2.230000e+05  2.265000e+05  1.317352e+06      0.011569    1500.000000   \n",
              "max    1.756000e+06  1.770000e+06  9.030618e+07      0.300000   98000.000000   \n",
              "\n",
              "            diff_se3       diff_se7       diff_lh1       diff_lh3  \\\n",
              "count   33172.000000   33172.000000   33172.000000   33172.000000   \n",
              "mean       56.861932      61.814060   -6320.494182   -6322.067617   \n",
              "std      7456.067058    7465.849632    8760.732535    8768.530856   \n",
              "min   -196000.000000 -196000.000000 -197000.000000 -197000.000000   \n",
              "25%     -1000.000000   -1000.000000   -7500.000000   -7500.000000   \n",
              "50%        40.000000      50.000000   -3500.000000   -3500.000000   \n",
              "75%      1500.000000    1500.000000   -1300.000000   -1300.000000   \n",
              "max     98000.000000   98000.000000       0.000000       0.000000   \n",
              "\n",
              "            diff_lh7  close_variation  volume_variation  kospi_close1  \\\n",
              "count   33172.000000     33172.000000      3.317200e+04  33172.000000   \n",
              "mean    -6323.643736        -6.955660      1.142009e+03   2634.095052   \n",
              "std      8779.007502      3089.223054      3.538602e+05    419.994128   \n",
              "min   -197000.000000    -39928.571429     -8.813652e+06   1457.640015   \n",
              "25%     -7500.000000      -571.428571     -2.855215e+04   2327.889893   \n",
              "50%     -3500.000000         7.142857     -1.840179e+02   2639.060059   \n",
              "75%     -1294.000000       630.357143      2.777620e+04   3013.699951   \n",
              "max         0.000000     40142.857143      9.232818e+06   3305.209961   \n",
              "\n",
              "           USD/KRW1      JPY/KRW1      BTC/KRW1  \n",
              "count  33172.000000  33172.000000  3.317200e+04  \n",
              "mean    1204.466224     10.423717  3.541337e+07  \n",
              "std       82.620474      0.550093  1.965977e+07  \n",
              "min     1083.680054      9.347962  6.019475e+06  \n",
              "25%     1143.002502      9.972013  1.408982e+07  \n",
              "50%     1188.250000     10.423645  3.423692e+07  \n",
              "75%     1233.390015     10.756629  5.225417e+07  \n",
              "max     1443.959961     11.634735  8.113841e+07  "
            ],
            "text/html": [
              "\n",
              "  <div id=\"df-82cb5fe5-c234-4aa5-80d6-1a150d9d8094\">\n",
              "    <div class=\"colab-df-container\">\n",
              "      <div>\n",
              "<style scoped>\n",
              "    .dataframe tbody tr th:only-of-type {\n",
              "        vertical-align: middle;\n",
              "    }\n",
              "\n",
              "    .dataframe tbody tr th {\n",
              "        vertical-align: top;\n",
              "    }\n",
              "\n",
              "    .dataframe thead th {\n",
              "        text-align: right;\n",
              "    }\n",
              "</style>\n",
              "<table border=\"1\" class=\"dataframe\">\n",
              "  <thead>\n",
              "    <tr style=\"text-align: right;\">\n",
              "      <th></th>\n",
              "      <th>increase</th>\n",
              "      <th>Open1</th>\n",
              "      <th>High1</th>\n",
              "      <th>Low1</th>\n",
              "      <th>Close1</th>\n",
              "      <th>Volume1</th>\n",
              "      <th>Change1</th>\n",
              "      <th>Open3</th>\n",
              "      <th>High3</th>\n",
              "      <th>Low3</th>\n",
              "      <th>Close3</th>\n",
              "      <th>Volume3</th>\n",
              "      <th>Change3</th>\n",
              "      <th>Open7</th>\n",
              "      <th>High7</th>\n",
              "      <th>Low7</th>\n",
              "      <th>Close7</th>\n",
              "      <th>Volume7</th>\n",
              "      <th>Change7</th>\n",
              "      <th>diff_se1</th>\n",
              "      <th>diff_se3</th>\n",
              "      <th>diff_se7</th>\n",
              "      <th>diff_lh1</th>\n",
              "      <th>diff_lh3</th>\n",
              "      <th>diff_lh7</th>\n",
              "      <th>close_variation</th>\n",
              "      <th>volume_variation</th>\n",
              "      <th>kospi_close1</th>\n",
              "      <th>USD/KRW1</th>\n",
              "      <th>JPY/KRW1</th>\n",
              "      <th>BTC/KRW1</th>\n",
              "    </tr>\n",
              "  </thead>\n",
              "  <tbody>\n",
              "    <tr>\n",
              "      <th>count</th>\n",
              "      <td>33172.000000</td>\n",
              "      <td>3.317200e+04</td>\n",
              "      <td>3.317200e+04</td>\n",
              "      <td>3.317200e+04</td>\n",
              "      <td>3.317200e+04</td>\n",
              "      <td>3.317200e+04</td>\n",
              "      <td>33172.000000</td>\n",
              "      <td>3.317200e+04</td>\n",
              "      <td>3.317200e+04</td>\n",
              "      <td>3.317200e+04</td>\n",
              "      <td>3.317200e+04</td>\n",
              "      <td>3.317200e+04</td>\n",
              "      <td>33172.000000</td>\n",
              "      <td>3.317200e+04</td>\n",
              "      <td>3.317200e+04</td>\n",
              "      <td>3.317200e+04</td>\n",
              "      <td>3.317200e+04</td>\n",
              "      <td>3.317200e+04</td>\n",
              "      <td>33172.000000</td>\n",
              "      <td>33172.000000</td>\n",
              "      <td>33172.000000</td>\n",
              "      <td>33172.000000</td>\n",
              "      <td>33172.000000</td>\n",
              "      <td>33172.000000</td>\n",
              "      <td>33172.000000</td>\n",
              "      <td>33172.000000</td>\n",
              "      <td>3.317200e+04</td>\n",
              "      <td>33172.000000</td>\n",
              "      <td>33172.000000</td>\n",
              "      <td>33172.000000</td>\n",
              "      <td>3.317200e+04</td>\n",
              "    </tr>\n",
              "    <tr>\n",
              "      <th>mean</th>\n",
              "      <td>0.464006</td>\n",
              "      <td>2.017565e+05</td>\n",
              "      <td>2.049055e+05</td>\n",
              "      <td>1.985850e+05</td>\n",
              "      <td>2.017048e+05</td>\n",
              "      <td>1.428931e+06</td>\n",
              "      <td>0.000363</td>\n",
              "      <td>2.017371e+05</td>\n",
              "      <td>2.048848e+05</td>\n",
              "      <td>1.985628e+05</td>\n",
              "      <td>2.016802e+05</td>\n",
              "      <td>1.429929e+06</td>\n",
              "      <td>0.000322</td>\n",
              "      <td>2.017228e+05</td>\n",
              "      <td>2.048668e+05</td>\n",
              "      <td>1.985432e+05</td>\n",
              "      <td>2.016610e+05</td>\n",
              "      <td>1.435526e+06</td>\n",
              "      <td>0.000338</td>\n",
              "      <td>51.703033</td>\n",
              "      <td>56.861932</td>\n",
              "      <td>61.814060</td>\n",
              "      <td>-6320.494182</td>\n",
              "      <td>-6322.067617</td>\n",
              "      <td>-6323.643736</td>\n",
              "      <td>-6.955660</td>\n",
              "      <td>1.142009e+03</td>\n",
              "      <td>2634.095052</td>\n",
              "      <td>1204.466224</td>\n",
              "      <td>10.423717</td>\n",
              "      <td>3.541337e+07</td>\n",
              "    </tr>\n",
              "    <tr>\n",
              "      <th>std</th>\n",
              "      <td>0.498710</td>\n",
              "      <td>2.476302e+05</td>\n",
              "      <td>2.509438e+05</td>\n",
              "      <td>2.440305e+05</td>\n",
              "      <td>2.472631e+05</td>\n",
              "      <td>3.409891e+06</td>\n",
              "      <td>0.025825</td>\n",
              "      <td>2.476088e+05</td>\n",
              "      <td>2.509211e+05</td>\n",
              "      <td>2.440065e+05</td>\n",
              "      <td>2.472369e+05</td>\n",
              "      <td>3.412104e+06</td>\n",
              "      <td>0.025843</td>\n",
              "      <td>2.475865e+05</td>\n",
              "      <td>2.508881e+05</td>\n",
              "      <td>2.439864e+05</td>\n",
              "      <td>2.472114e+05</td>\n",
              "      <td>3.427107e+06</td>\n",
              "      <td>0.026004</td>\n",
              "      <td>7451.026571</td>\n",
              "      <td>7456.067058</td>\n",
              "      <td>7465.849632</td>\n",
              "      <td>8760.732535</td>\n",
              "      <td>8768.530856</td>\n",
              "      <td>8779.007502</td>\n",
              "      <td>3089.223054</td>\n",
              "      <td>3.538602e+05</td>\n",
              "      <td>419.994128</td>\n",
              "      <td>82.620474</td>\n",
              "      <td>0.550093</td>\n",
              "      <td>1.965977e+07</td>\n",
              "    </tr>\n",
              "    <tr>\n",
              "      <th>min</th>\n",
              "      <td>0.000000</td>\n",
              "      <td>0.000000e+00</td>\n",
              "      <td>0.000000e+00</td>\n",
              "      <td>0.000000e+00</td>\n",
              "      <td>2.190000e+03</td>\n",
              "      <td>0.000000e+00</td>\n",
              "      <td>-0.248705</td>\n",
              "      <td>0.000000e+00</td>\n",
              "      <td>0.000000e+00</td>\n",
              "      <td>0.000000e+00</td>\n",
              "      <td>2.190000e+03</td>\n",
              "      <td>0.000000e+00</td>\n",
              "      <td>-0.248705</td>\n",
              "      <td>0.000000e+00</td>\n",
              "      <td>0.000000e+00</td>\n",
              "      <td>0.000000e+00</td>\n",
              "      <td>2.190000e+03</td>\n",
              "      <td>0.000000e+00</td>\n",
              "      <td>-0.248705</td>\n",
              "      <td>-196000.000000</td>\n",
              "      <td>-196000.000000</td>\n",
              "      <td>-196000.000000</td>\n",
              "      <td>-197000.000000</td>\n",
              "      <td>-197000.000000</td>\n",
              "      <td>-197000.000000</td>\n",
              "      <td>-39928.571429</td>\n",
              "      <td>-8.813652e+06</td>\n",
              "      <td>1457.640015</td>\n",
              "      <td>1083.680054</td>\n",
              "      <td>9.347962</td>\n",
              "      <td>6.019475e+06</td>\n",
              "    </tr>\n",
              "    <tr>\n",
              "      <th>25%</th>\n",
              "      <td>0.000000</td>\n",
              "      <td>5.752250e+04</td>\n",
              "      <td>5.840000e+04</td>\n",
              "      <td>5.677400e+04</td>\n",
              "      <td>5.780000e+04</td>\n",
              "      <td>2.115848e+05</td>\n",
              "      <td>-0.013158</td>\n",
              "      <td>5.758250e+04</td>\n",
              "      <td>5.840000e+04</td>\n",
              "      <td>5.678225e+04</td>\n",
              "      <td>5.780000e+04</td>\n",
              "      <td>2.117002e+05</td>\n",
              "      <td>-0.013217</td>\n",
              "      <td>5.750000e+04</td>\n",
              "      <td>5.840000e+04</td>\n",
              "      <td>5.677400e+04</td>\n",
              "      <td>5.780000e+04</td>\n",
              "      <td>2.119492e+05</td>\n",
              "      <td>-0.013158</td>\n",
              "      <td>-1000.000000</td>\n",
              "      <td>-1000.000000</td>\n",
              "      <td>-1000.000000</td>\n",
              "      <td>-7500.000000</td>\n",
              "      <td>-7500.000000</td>\n",
              "      <td>-7500.000000</td>\n",
              "      <td>-571.428571</td>\n",
              "      <td>-2.855215e+04</td>\n",
              "      <td>2327.889893</td>\n",
              "      <td>1143.002502</td>\n",
              "      <td>9.972013</td>\n",
              "      <td>1.408982e+07</td>\n",
              "    </tr>\n",
              "    <tr>\n",
              "      <th>50%</th>\n",
              "      <td>0.000000</td>\n",
              "      <td>1.225000e+05</td>\n",
              "      <td>1.245000e+05</td>\n",
              "      <td>1.210000e+05</td>\n",
              "      <td>1.225000e+05</td>\n",
              "      <td>4.863900e+05</td>\n",
              "      <td>0.000000</td>\n",
              "      <td>1.230000e+05</td>\n",
              "      <td>1.250000e+05</td>\n",
              "      <td>1.210000e+05</td>\n",
              "      <td>1.230000e+05</td>\n",
              "      <td>4.869240e+05</td>\n",
              "      <td>0.000000</td>\n",
              "      <td>1.230000e+05</td>\n",
              "      <td>1.250000e+05</td>\n",
              "      <td>1.210000e+05</td>\n",
              "      <td>1.230000e+05</td>\n",
              "      <td>4.886070e+05</td>\n",
              "      <td>0.000000</td>\n",
              "      <td>40.000000</td>\n",
              "      <td>40.000000</td>\n",
              "      <td>50.000000</td>\n",
              "      <td>-3500.000000</td>\n",
              "      <td>-3500.000000</td>\n",
              "      <td>-3500.000000</td>\n",
              "      <td>7.142857</td>\n",
              "      <td>-1.840179e+02</td>\n",
              "      <td>2639.060059</td>\n",
              "      <td>1188.250000</td>\n",
              "      <td>10.423645</td>\n",
              "      <td>3.423692e+07</td>\n",
              "    </tr>\n",
              "    <tr>\n",
              "      <th>75%</th>\n",
              "      <td>1.000000</td>\n",
              "      <td>2.260000e+05</td>\n",
              "      <td>2.300000e+05</td>\n",
              "      <td>2.225000e+05</td>\n",
              "      <td>2.255550e+05</td>\n",
              "      <td>1.312620e+06</td>\n",
              "      <td>0.011641</td>\n",
              "      <td>2.260000e+05</td>\n",
              "      <td>2.300000e+05</td>\n",
              "      <td>2.225000e+05</td>\n",
              "      <td>2.260000e+05</td>\n",
              "      <td>1.313186e+06</td>\n",
              "      <td>0.011616</td>\n",
              "      <td>2.265000e+05</td>\n",
              "      <td>2.300000e+05</td>\n",
              "      <td>2.230000e+05</td>\n",
              "      <td>2.265000e+05</td>\n",
              "      <td>1.317352e+06</td>\n",
              "      <td>0.011569</td>\n",
              "      <td>1500.000000</td>\n",
              "      <td>1500.000000</td>\n",
              "      <td>1500.000000</td>\n",
              "      <td>-1300.000000</td>\n",
              "      <td>-1300.000000</td>\n",
              "      <td>-1294.000000</td>\n",
              "      <td>630.357143</td>\n",
              "      <td>2.777620e+04</td>\n",
              "      <td>3013.699951</td>\n",
              "      <td>1233.390015</td>\n",
              "      <td>10.756629</td>\n",
              "      <td>5.225417e+07</td>\n",
              "    </tr>\n",
              "    <tr>\n",
              "      <th>max</th>\n",
              "      <td>1.000000</td>\n",
              "      <td>1.770000e+06</td>\n",
              "      <td>1.784000e+06</td>\n",
              "      <td>1.756000e+06</td>\n",
              "      <td>1.770000e+06</td>\n",
              "      <td>9.030618e+07</td>\n",
              "      <td>0.299238</td>\n",
              "      <td>1.770000e+06</td>\n",
              "      <td>1.784000e+06</td>\n",
              "      <td>1.756000e+06</td>\n",
              "      <td>1.770000e+06</td>\n",
              "      <td>9.030618e+07</td>\n",
              "      <td>0.299238</td>\n",
              "      <td>1.770000e+06</td>\n",
              "      <td>1.784000e+06</td>\n",
              "      <td>1.756000e+06</td>\n",
              "      <td>1.770000e+06</td>\n",
              "      <td>9.030618e+07</td>\n",
              "      <td>0.300000</td>\n",
              "      <td>98000.000000</td>\n",
              "      <td>98000.000000</td>\n",
              "      <td>98000.000000</td>\n",
              "      <td>0.000000</td>\n",
              "      <td>0.000000</td>\n",
              "      <td>0.000000</td>\n",
              "      <td>40142.857143</td>\n",
              "      <td>9.232818e+06</td>\n",
              "      <td>3305.209961</td>\n",
              "      <td>1443.959961</td>\n",
              "      <td>11.634735</td>\n",
              "      <td>8.113841e+07</td>\n",
              "    </tr>\n",
              "  </tbody>\n",
              "</table>\n",
              "</div>\n",
              "      <button class=\"colab-df-convert\" onclick=\"convertToInteractive('df-82cb5fe5-c234-4aa5-80d6-1a150d9d8094')\"\n",
              "              title=\"Convert this dataframe to an interactive table.\"\n",
              "              style=\"display:none;\">\n",
              "        \n",
              "  <svg xmlns=\"http://www.w3.org/2000/svg\" height=\"24px\"viewBox=\"0 0 24 24\"\n",
              "       width=\"24px\">\n",
              "    <path d=\"M0 0h24v24H0V0z\" fill=\"none\"/>\n",
              "    <path d=\"M18.56 5.44l.94 2.06.94-2.06 2.06-.94-2.06-.94-.94-2.06-.94 2.06-2.06.94zm-11 1L8.5 8.5l.94-2.06 2.06-.94-2.06-.94L8.5 2.5l-.94 2.06-2.06.94zm10 10l.94 2.06.94-2.06 2.06-.94-2.06-.94-.94-2.06-.94 2.06-2.06.94z\"/><path d=\"M17.41 7.96l-1.37-1.37c-.4-.4-.92-.59-1.43-.59-.52 0-1.04.2-1.43.59L10.3 9.45l-7.72 7.72c-.78.78-.78 2.05 0 2.83L4 21.41c.39.39.9.59 1.41.59.51 0 1.02-.2 1.41-.59l7.78-7.78 2.81-2.81c.8-.78.8-2.07 0-2.86zM5.41 20L4 18.59l7.72-7.72 1.47 1.35L5.41 20z\"/>\n",
              "  </svg>\n",
              "      </button>\n",
              "      \n",
              "  <style>\n",
              "    .colab-df-container {\n",
              "      display:flex;\n",
              "      flex-wrap:wrap;\n",
              "      gap: 12px;\n",
              "    }\n",
              "\n",
              "    .colab-df-convert {\n",
              "      background-color: #E8F0FE;\n",
              "      border: none;\n",
              "      border-radius: 50%;\n",
              "      cursor: pointer;\n",
              "      display: none;\n",
              "      fill: #1967D2;\n",
              "      height: 32px;\n",
              "      padding: 0 0 0 0;\n",
              "      width: 32px;\n",
              "    }\n",
              "\n",
              "    .colab-df-convert:hover {\n",
              "      background-color: #E2EBFA;\n",
              "      box-shadow: 0px 1px 2px rgba(60, 64, 67, 0.3), 0px 1px 3px 1px rgba(60, 64, 67, 0.15);\n",
              "      fill: #174EA6;\n",
              "    }\n",
              "\n",
              "    [theme=dark] .colab-df-convert {\n",
              "      background-color: #3B4455;\n",
              "      fill: #D2E3FC;\n",
              "    }\n",
              "\n",
              "    [theme=dark] .colab-df-convert:hover {\n",
              "      background-color: #434B5C;\n",
              "      box-shadow: 0px 1px 3px 1px rgba(0, 0, 0, 0.15);\n",
              "      filter: drop-shadow(0px 1px 2px rgba(0, 0, 0, 0.3));\n",
              "      fill: #FFFFFF;\n",
              "    }\n",
              "  </style>\n",
              "\n",
              "      <script>\n",
              "        const buttonEl =\n",
              "          document.querySelector('#df-82cb5fe5-c234-4aa5-80d6-1a150d9d8094 button.colab-df-convert');\n",
              "        buttonEl.style.display =\n",
              "          google.colab.kernel.accessAllowed ? 'block' : 'none';\n",
              "\n",
              "        async function convertToInteractive(key) {\n",
              "          const element = document.querySelector('#df-82cb5fe5-c234-4aa5-80d6-1a150d9d8094');\n",
              "          const dataTable =\n",
              "            await google.colab.kernel.invokeFunction('convertToInteractive',\n",
              "                                                     [key], {});\n",
              "          if (!dataTable) return;\n",
              "\n",
              "          const docLinkHtml = 'Like what you see? Visit the ' +\n",
              "            '<a target=\"_blank\" href=https://colab.research.google.com/notebooks/data_table.ipynb>data table notebook</a>'\n",
              "            + ' to learn more about interactive tables.';\n",
              "          element.innerHTML = '';\n",
              "          dataTable['output_type'] = 'display_data';\n",
              "          await google.colab.output.renderOutput(dataTable, element);\n",
              "          const docLink = document.createElement('div');\n",
              "          docLink.innerHTML = docLinkHtml;\n",
              "          element.appendChild(docLink);\n",
              "        }\n",
              "      </script>\n",
              "    </div>\n",
              "  </div>\n",
              "  "
            ]
          },
          "metadata": {},
          "execution_count": 14
        }
      ]
    },
    {
      "cell_type": "code",
      "source": [
        "y = df.loc[:,'increase']\n",
        "X = df.iloc[:, 3:]"
      ],
      "metadata": {
        "id": "I1x21Eb_CVPs"
      },
      "execution_count": null,
      "outputs": []
    },
    {
      "cell_type": "code",
      "source": [
        "X_train, X_test, y_train, y_test = train_test_split(X, y, stratify=y,random_state=0)\n",
        "print(X_train.shape)\n",
        "print(X_test.shape)"
      ],
      "metadata": {
        "colab": {
          "base_uri": "https://localhost:8080/"
        },
        "id": "iFCErYs4rx3e",
        "outputId": "e22c23f1-3d47-4d4a-f21b-1bfd88a9235f"
      },
      "execution_count": null,
      "outputs": [
        {
          "output_type": "stream",
          "name": "stdout",
          "text": [
            "(24879, 30)\n",
            "(8293, 30)\n"
          ]
        }
      ]
    },
    {
      "cell_type": "markdown",
      "source": [
        "### 모형선택"
      ],
      "metadata": {
        "id": "6qUe5-mKsxsN"
      }
    },
    {
      "cell_type": "code",
      "source": [
        "kfold = KFold(n_splits=5, shuffle=True, random_state=0)"
      ],
      "metadata": {
        "id": "4J6Wha05swq9"
      },
      "execution_count": null,
      "outputs": []
    },
    {
      "cell_type": "code",
      "source": [
        "def classification_model(model):\n",
        "    # Obtain scores of cross-validation using 10 splits and mean squared error\n",
        "    scores = cross_val_score(model, X_train, y_train, scoring='accuracy', cv=kfold)\n",
        "    # Return mean score\n",
        "    return scores.mean()"
      ],
      "metadata": {
        "id": "_Azg9B9lryS8"
      },
      "execution_count": null,
      "outputs": []
    },
    {
      "cell_type": "code",
      "source": [
        "classification_model(LogisticRegression())"
      ],
      "metadata": {
        "colab": {
          "base_uri": "https://localhost:8080/"
        },
        "id": "QeFLMysIs4kK",
        "outputId": "51b71732-ed09-4fa1-df27-b8b521248283"
      },
      "execution_count": null,
      "outputs": [
        {
          "output_type": "execute_result",
          "data": {
            "text/plain": [
              "0.5341053175847081"
            ]
          },
          "metadata": {},
          "execution_count": 22
        }
      ]
    },
    {
      "cell_type": "code",
      "source": [
        "classification_model(RandomForestClassifier())"
      ],
      "metadata": {
        "colab": {
          "base_uri": "https://localhost:8080/"
        },
        "id": "yvoYt2EQs7Cc",
        "outputId": "b3ccf401-7c7d-4294-e10d-428e66a4b964"
      },
      "execution_count": null,
      "outputs": [
        {
          "output_type": "execute_result",
          "data": {
            "text/plain": [
              "0.6150972789994991"
            ]
          },
          "metadata": {},
          "execution_count": 23
        }
      ]
    },
    {
      "cell_type": "code",
      "source": [
        "classification_model(DecisionTreeClassifier())"
      ],
      "metadata": {
        "colab": {
          "base_uri": "https://localhost:8080/"
        },
        "id": "orU4r8mQvwx8",
        "outputId": "a2868aa2-023c-4bc6-9df6-04e19a9b21f0"
      },
      "execution_count": null,
      "outputs": [
        {
          "output_type": "execute_result",
          "data": {
            "text/plain": [
              "0.601189605584191"
            ]
          },
          "metadata": {},
          "execution_count": 24
        }
      ]
    },
    {
      "cell_type": "code",
      "source": [
        "classification_model(XGBClassifier(booster='gbtree', verbosity = 0))"
      ],
      "metadata": {
        "colab": {
          "base_uri": "https://localhost:8080/"
        },
        "id": "WI-y7ovQs7E1",
        "outputId": "de0be732-2ddd-4684-ed57-557e4f1ea1d5"
      },
      "execution_count": null,
      "outputs": [
        {
          "output_type": "execute_result",
          "data": {
            "text/plain": [
              "0.6160622970156246"
            ]
          },
          "metadata": {},
          "execution_count": 25
        }
      ]
    },
    {
      "cell_type": "code",
      "source": [
        "classification_model(XGBClassifier(booster='dart', verbosity = 0 ))"
      ],
      "metadata": {
        "colab": {
          "base_uri": "https://localhost:8080/"
        },
        "id": "V1g9Qst7s7IK",
        "outputId": "64bdac26-50e0-4bd7-a377-8a1d9f5e64b8"
      },
      "execution_count": null,
      "outputs": [
        {
          "output_type": "execute_result",
          "data": {
            "text/plain": [
              "0.6160622970156246"
            ]
          },
          "metadata": {},
          "execution_count": 26
        }
      ]
    },
    {
      "cell_type": "code",
      "source": [
        "classification_model(XGBClassifier(booster='gblinear', verbosity = 0))"
      ],
      "metadata": {
        "colab": {
          "base_uri": "https://localhost:8080/"
        },
        "id": "VemIxOHvtJZj",
        "outputId": "719f491c-c869-424d-b6fa-ce8d21dec7db"
      },
      "execution_count": null,
      "outputs": [
        {
          "output_type": "execute_result",
          "data": {
            "text/plain": [
              "0.5357129861526281"
            ]
          },
          "metadata": {},
          "execution_count": 27
        }
      ]
    },
    {
      "cell_type": "code",
      "source": [
        "classification_model(LGBMClassifier())"
      ],
      "metadata": {
        "colab": {
          "base_uri": "https://localhost:8080/"
        },
        "id": "BgI4MPPBtJtG",
        "outputId": "f0891c82-9ce8-4a42-9fc5-cd2fc15fcf33"
      },
      "execution_count": null,
      "outputs": [
        {
          "output_type": "execute_result",
          "data": {
            "text/plain": [
              "0.6569398681510445"
            ]
          },
          "metadata": {},
          "execution_count": 28
        }
      ]
    },
    {
      "cell_type": "code",
      "source": [
        "classification_model(LGBMClassifier(boosting_type='goss'))"
      ],
      "metadata": {
        "colab": {
          "base_uri": "https://localhost:8080/"
        },
        "id": "bhcvjAojtTkf",
        "outputId": "7b175a99-50b1-4a6a-dcca-7b5298ed634d"
      },
      "execution_count": null,
      "outputs": [
        {
          "output_type": "execute_result",
          "data": {
            "text/plain": [
              "0.6081840795617961"
            ]
          },
          "metadata": {},
          "execution_count": 29
        }
      ]
    },
    {
      "cell_type": "code",
      "source": [
        "classification_model(CatBoostClassifier())"
      ],
      "metadata": {
        "id": "2PZzPQ1ktT6W"
      },
      "execution_count": null,
      "outputs": []
    },
    {
      "cell_type": "markdown",
      "source": [
        "### 초모수 조절"
      ],
      "metadata": {
        "id": "d8ScGlzOtr9h"
      }
    },
    {
      "cell_type": "markdown",
      "source": [
        "#### LGBM"
      ],
      "metadata": {
        "id": "LO_uBdkN5dyH"
      }
    },
    {
      "cell_type": "markdown",
      "source": [
        "grid_search"
      ],
      "metadata": {
        "id": "cvV0Quoczv0T"
      }
    },
    {
      "cell_type": "code",
      "source": [
        "X_train_2, X_test_2, y_train_2, y_test_2 = train_test_split(X_train, y_train, test_size = 0.3)"
      ],
      "metadata": {
        "id": "tOeiygdTNsL-"
      },
      "execution_count": null,
      "outputs": []
    },
    {
      "cell_type": "code",
      "source": [
        "def n_estimators(model):\n",
        "  eval_set = [(X_test_2, y_test_2)]\n",
        "  model.fit(X_train_2, y_train_2, eval_set = eval_set, early_stopping_rounds = 10)\n",
        "  y_pred = model.predict(X_test_2)\n",
        "  accuracy = accuracy_score(y_test_2, y_pred)\n",
        "  return accuracy"
      ],
      "metadata": {
        "id": "ZTh2BLnVNP9a"
      },
      "execution_count": null,
      "outputs": []
    },
    {
      "cell_type": "code",
      "source": [
        "n_estimators(LGBMClassifier(random_state=1, n = 5000))"
      ],
      "metadata": {
        "id": "uyBqXA3Rs5Ri"
      },
      "execution_count": null,
      "outputs": []
    },
    {
      "cell_type": "code",
      "source": [
        "def grid_search(model, params):\n",
        "    grid_class = GridSearchCV(model, params, scoring='accuracy', cv=5, n_jobs=-1)\n",
        "    \n",
        "    grid_class.fit(X_train, y_train)\n",
        "\n",
        "    best_params = grid_class.best_params_\n",
        "    best_score=grid_class.best_score_\n",
        "\n",
        "    print(\"Best params:\", best_params) \n",
        "    print('bestscore',best_score.round(2))"
      ],
      "metadata": {
        "id": "WFW71ED-tUOG"
      },
      "execution_count": null,
      "outputs": []
    },
    {
      "cell_type": "code",
      "source": [
        "model=LGBMClassifier(random_state=1)\n",
        "parms={'learning_rate':[0.5, 0.2, 0.1, 0.05]}\n",
        "grid_search(model=model,params=parms)"
      ],
      "metadata": {
        "id": "lJLk_3kttUTW",
        "colab": {
          "base_uri": "https://localhost:8080/"
        },
        "outputId": "f5661bea-67c0-4452-b06f-18530cc58669"
      },
      "execution_count": null,
      "outputs": [
        {
          "output_type": "stream",
          "name": "stdout",
          "text": [
            "Best params: {'learning_rate': 0.1}\n",
            "bestscore 0.66\n"
          ]
        }
      ]
    },
    {
      "cell_type": "code",
      "source": [
        "model=LGBMClassifier(random_state=1)\n",
        "parms={'max_depth':[3, 4, 5, 6]}\n",
        "grid_search(model=model,params=parms)"
      ],
      "metadata": {
        "id": "D2Hwwyio5DSm",
        "colab": {
          "base_uri": "https://localhost:8080/"
        },
        "outputId": "f053e799-6eed-4f01-fe45-8f3cc7edfd44"
      },
      "execution_count": null,
      "outputs": [
        {
          "output_type": "stream",
          "name": "stdout",
          "text": [
            "Best params: {'max_depth': 6}\n",
            "bestscore 0.66\n"
          ]
        }
      ]
    },
    {
      "cell_type": "code",
      "source": [
        "model=LGBMClassifier(random_state=1)\n",
        "parms={'min_child_weight':[1, 2, 3, 4]}\n",
        "grid_search(model=model,params=parms)"
      ],
      "metadata": {
        "id": "ZCGT8ymF5Das",
        "colab": {
          "base_uri": "https://localhost:8080/"
        },
        "outputId": "472687ce-a057-4e60-b26a-7176b62bbc65"
      },
      "execution_count": null,
      "outputs": [
        {
          "output_type": "stream",
          "name": "stdout",
          "text": [
            "Best params: {'min_child_weight': 3}\n",
            "bestscore 0.66\n"
          ]
        }
      ]
    },
    {
      "cell_type": "code",
      "source": [
        "model=LGBMClassifier(random_state=1)\n",
        "parms={'subsample':[0.2, 0.4, 0.6]}\n",
        "grid_search(model=model,params=parms)"
      ],
      "metadata": {
        "colab": {
          "base_uri": "https://localhost:8080/"
        },
        "id": "92p_ABw7vccH",
        "outputId": "c00a1fd2-6190-4113-b1b7-bf50d2060e43"
      },
      "execution_count": null,
      "outputs": [
        {
          "output_type": "stream",
          "name": "stdout",
          "text": [
            "Best params: {'subsample': 0.2}\n",
            "bestscore 0.66\n"
          ]
        }
      ]
    },
    {
      "cell_type": "code",
      "source": [
        "model=LGBMClassifier(random_state=1)\n",
        "parms={'colsample_bytree':[0.4, 0.6, 0.8]}\n",
        "grid_search(model=model,params=parms)"
      ],
      "metadata": {
        "colab": {
          "base_uri": "https://localhost:8080/"
        },
        "id": "lHPaw1LFvcmn",
        "outputId": "df1ed77f-9679-4338-ee37-79530a96db39"
      },
      "execution_count": null,
      "outputs": [
        {
          "output_type": "stream",
          "name": "stdout",
          "text": [
            "Best params: {'colsample_bytree': 0.6}\n",
            "bestscore 0.66\n"
          ]
        }
      ]
    },
    {
      "cell_type": "markdown",
      "source": [
        "random_search"
      ],
      "metadata": {
        "id": "FpsgXmTJzyXW"
      }
    },
    {
      "cell_type": "code",
      "source": [
        "kfold = KFold(n_splits=3, shuffle=True, random_state=0)"
      ],
      "metadata": {
        "id": "A5rq-FwY5snq"
      },
      "execution_count": null,
      "outputs": []
    },
    {
      "cell_type": "code",
      "source": [
        "def randomized_search(model,params, cv=10,runs=50):\n",
        "\n",
        "    rand_class = RandomizedSearchCV(model, params, n_iter=runs, scoring='accuracy', \n",
        "                                  cv=kfold, n_jobs=-1, random_state=2)\n",
        "    rand_class.fit(X_train, y_train)\n",
        "\n",
        "    best_model = rand_class.best_estimator_\n",
        "    best_params = rand_class.best_params_\n",
        "    best_score = rand_class.best_score_\n",
        "\n",
        "    print(\"Best params:\", best_params)\n",
        "    print(\"Training score: {:.3f}\".format(best_score))\n",
        "    return best_model"
      ],
      "metadata": {
        "id": "IYjOArjO5Ew8"
      },
      "execution_count": null,
      "outputs": []
    },
    {
      "cell_type": "code",
      "source": [
        "model1=LGBMClassifier(random_state=2, n_jobs=-1)\n",
        "params={'n_estimators':[100,200,300],'learning_rate':[0.1, 0.2, 0.05],'min_child_weight':[2,3,4],'max_depth':[5,6,7],\n",
        "        'subsample':[0.1, 0.2, 0.3],'colsample_bytree':[0.5, 0.6, 0.7] }\n",
        "\n",
        "best_model=randomized_search(model1, params)\n",
        "\n",
        "y_pred = best_model.predict(X_test)\n",
        "accuracy = accuracy_score(y_test, y_pred)\n",
        "print('Test score: {:.3f}'.format(accuracy))"
      ],
      "metadata": {
        "id": "POtL_3Nd5E4Y",
        "colab": {
          "base_uri": "https://localhost:8080/"
        },
        "outputId": "6ab496f5-295f-47c0-f3a3-b838f91e4b96"
      },
      "execution_count": null,
      "outputs": [
        {
          "output_type": "stream",
          "name": "stdout",
          "text": [
            "Best params: {'subsample': 0.3, 'n_estimators': 300, 'min_child_weight': 4, 'max_depth': 5, 'learning_rate': 0.1, 'colsample_bytree': 0.7}\n",
            "Training score: 0.664\n",
            "Test score: 0.661\n"
          ]
        }
      ]
    },
    {
      "cell_type": "code",
      "source": [
        "model1=LGBMClassifier(random_state=2, n_jobs=-1)\n",
        "params={'n_estimators':[250,300, 400],'learning_rate':[0.1, 0.12, 0.08],'min_child_weight':[3,4,5],'max_depth':[4, 5,6,7],\n",
        "        'subsample':[0.2, 0.3, 0.4],'colsample_bytree':[0.6, 0.7, 0.8] }\n",
        "\n",
        "best_model=randomized_search(model1, params)\n",
        "\n",
        "y_pred = best_model.predict(X_test)\n",
        "accuracy = accuracy_score(y_test, y_pred)\n",
        "print('Test score: {:.3f}'.format(accuracy))"
      ],
      "metadata": {
        "colab": {
          "base_uri": "https://localhost:8080/"
        },
        "id": "OB5EmbBhz3Yx",
        "outputId": "9f134d5e-63f6-4498-eb1e-2028550cd1e3"
      },
      "execution_count": null,
      "outputs": [
        {
          "output_type": "stream",
          "name": "stdout",
          "text": [
            "Best params: {'subsample': 0.2, 'n_estimators': 300, 'min_child_weight': 5, 'max_depth': 7, 'learning_rate': 0.08, 'colsample_bytree': 0.6}\n",
            "Training score: 0.659\n",
            "Test score: 0.666\n"
          ]
        }
      ]
    },
    {
      "cell_type": "code",
      "source": [
        "model1=LGBMClassifier(random_state=2, n_jobs=-1)\n",
        "params={'n_estimators':[300],'learning_rate':[0.1, 0.08, 0.06],'min_child_weight':[4,5,6],'max_depth':[6, 7,8],\n",
        "        'subsample':[0.1, 0.2, 0.3],'colsample_bytree':[0.6, 0.7, 0.8] }\n",
        "\n",
        "best_model=randomized_search(model1, params)\n",
        "\n",
        "y_pred = best_model.predict(X_test)\n",
        "accuracy = accuracy_score(y_test, y_pred)\n",
        "print('Test score: {:.3f}'.format(accuracy))"
      ],
      "metadata": {
        "colab": {
          "base_uri": "https://localhost:8080/"
        },
        "id": "il0zxSbo1FD5",
        "outputId": "4756428d-8f89-41a5-fe18-27f8a8cff181"
      },
      "execution_count": null,
      "outputs": [
        {
          "output_type": "stream",
          "name": "stdout",
          "text": [
            "Best params: {'subsample': 0.2, 'n_estimators': 300, 'min_child_weight': 6, 'max_depth': 7, 'learning_rate': 0.06, 'colsample_bytree': 0.7}\n",
            "Training score: 0.660\n",
            "Test score: 0.668\n"
          ]
        }
      ]
    },
    {
      "cell_type": "markdown",
      "source": [
        "최종 성능"
      ],
      "metadata": {
        "id": "9cb5kbFPu73t"
      }
    },
    {
      "cell_type": "code",
      "source": [
        "final_model = LGBMClassifier(subsample=0.2, n_estimators= 300, min_child_weight= 6, max_depth=7, \n",
        "                             learning_rate= 0.06, colsample_bytree=0.7)\n",
        "final_model.fit(X_train, y_train)\n",
        "y_pred = final_model.predict(X_test)\n",
        "accuracy = accuracy_score(y_test, y_pred)\n",
        "print('Test score: {:.3f}'.format(accuracy))\n",
        "\n",
        "#scores = cross_val_score(final_model, X_train, y_train, scoring='accuracy', cv=kfold)\n",
        "#print(\"accuracy: %.3f, +/-%.3f\" %(np.mean(scores),np.std(scores)))"
      ],
      "metadata": {
        "id": "GyyFvcMV6Fx1",
        "colab": {
          "base_uri": "https://localhost:8080/"
        },
        "outputId": "b045c385-ea82-483f-93f0-24071e8283b3"
      },
      "execution_count": null,
      "outputs": [
        {
          "output_type": "stream",
          "name": "stdout",
          "text": [
            "Test score: 0.669\n"
          ]
        }
      ]
    },
    {
      "cell_type": "markdown",
      "source": [
        "#### Cat"
      ],
      "metadata": {
        "id": "aSy7gxK95kGD"
      }
    },
    {
      "cell_type": "code",
      "source": [
        "n_estimators(CatBoostClassifier(random_state=1, n_estimators = 5000))"
      ],
      "metadata": {
        "id": "ZlBunrQa4lIi"
      },
      "execution_count": null,
      "outputs": []
    },
    {
      "cell_type": "markdown",
      "source": [
        "grid_search"
      ],
      "metadata": {
        "id": "0jYwmbVD5p56"
      }
    },
    {
      "cell_type": "code",
      "source": [
        "model=CatBoostClassifier(random_state=1)\n",
        "parms={'learning_rate':[0.5, 0.2, 0.1, 0.05]}\n",
        "grid_search(model=model,params=parms)"
      ],
      "metadata": {
        "id": "a2Oix4Zz5p58"
      },
      "execution_count": null,
      "outputs": []
    },
    {
      "cell_type": "code",
      "source": [
        "model=CatBoostClassifier(random_state=1)\n",
        "parms={'max_depth':[3, 4, 5, 6]}\n",
        "grid_search(model=model,params=parms)"
      ],
      "metadata": {
        "id": "w6uxxLco5p59"
      },
      "execution_count": null,
      "outputs": []
    },
    {
      "cell_type": "code",
      "source": [
        "model=CatBoostClassifier(random_state=1)\n",
        "parms={'colsample_bylevel':[0.4, 0.6, 0.8]}\n",
        "grid_search(model=model,params=parms)"
      ],
      "metadata": {
        "id": "OfO-YB8R5p5-"
      },
      "execution_count": null,
      "outputs": []
    },
    {
      "cell_type": "code",
      "source": [
        "model=CatBoostClassifier(random_state=1)\n",
        "parms={'subsample':[0.2, 0.4, 0.6]}\n",
        "grid_search(model=model,params=parms)"
      ],
      "metadata": {
        "id": "IdzyOSSE5p5-"
      },
      "execution_count": null,
      "outputs": []
    },
    {
      "cell_type": "code",
      "source": [
        "model=CatBoostClassifier(random_state=1)\n",
        "parms={'min_child_samples':[1, 2, 3, 4]}\n",
        "grid_search(model=model,params=parms)"
      ],
      "metadata": {
        "id": "im7BolIy5p59"
      },
      "execution_count": null,
      "outputs": []
    },
    {
      "cell_type": "markdown",
      "source": [
        "random_search"
      ],
      "metadata": {
        "id": "cOAFXLft5p5_"
      }
    },
    {
      "cell_type": "code",
      "source": [
        "model2=CatBoostClassifier(random_state=2, n_estimators= 300)\n",
        "params={'learning_rate':[0.07, 0.03, 0.05],'min_child_samples':[1,2,3],'max_depth':[6,7,8],\n",
        "        'subsample':[0.5, 0.6, 0.7],'colsample_bylevel':[0.8, 1, 0.7] }\n",
        "\n",
        "best_model=randomized_search(model2, params)\n",
        "\n",
        "y_pred = best_model.predict(X_test)\n",
        "accuracy = accuracy_score(y_test, y_pred)\n",
        "print('Test score: {:.3f}'.format(accuracy))"
      ],
      "metadata": {
        "id": "8ZJw87Bf5p6B"
      },
      "execution_count": null,
      "outputs": []
    },
    {
      "cell_type": "markdown",
      "source": [
        "최종 성능"
      ],
      "metadata": {
        "id": "bZMbgMCa5p6D"
      }
    },
    {
      "cell_type": "code",
      "source": [
        "final_model = CatBoostClassifier(subsample=0.7, n_estimators= 8000, min_child_samples= 1, max_depth=8, \n",
        "                                 learning_rate= 0.07, colsample_bylevel=1)\n",
        "final_model.fit(X_train, y_train)\n",
        "y_pred = final_model.predict(X_test)\n",
        "accuracy = accuracy_score(y_test, y_pred)\n",
        "print('Test score: {:.3f}'.format(accuracy))\n",
        "\n",
        "#scores = cross_val_score(final_model, X_train, y_train, scoring='accuracy', cv=kfold)\n",
        "#print(\"accuracy: %.3f, +/-%.3f\" %(np.mean(scores),np.std(scores)))"
      ],
      "metadata": {
        "id": "MQGtdG_N5p6D"
      },
      "execution_count": null,
      "outputs": []
    },
    {
      "cell_type": "markdown",
      "source": [
        "#### XG"
      ],
      "metadata": {
        "id": "yAv-YoFYVtuG"
      }
    },
    {
      "cell_type": "markdown",
      "source": [
        "grid_search"
      ],
      "metadata": {
        "id": "vq1ZhSolVtuH"
      }
    },
    {
      "cell_type": "code",
      "source": [
        "model=XGBClassifier(random_state=1)\n",
        "parms={'learning_rate':[0.5, 0.2, 0.1, 0.05]}\n",
        "grid_search(model=model,params=parms)"
      ],
      "metadata": {
        "colab": {
          "base_uri": "https://localhost:8080/"
        },
        "outputId": "6637a39d-ce32-4ec6-b050-012586acbac9",
        "id": "KLlymUsCVtuH"
      },
      "execution_count": null,
      "outputs": [
        {
          "output_type": "stream",
          "name": "stdout",
          "text": [
            "Best params: {'learning_rate': 0.5}\n",
            "bestscore 0.65\n"
          ]
        }
      ]
    },
    {
      "cell_type": "code",
      "source": [
        "model=XGBClassifier(random_state=1)\n",
        "parms={'max_depth':[3, 4, 5, 6]}\n",
        "grid_search(model=model,params=parms)"
      ],
      "metadata": {
        "colab": {
          "base_uri": "https://localhost:8080/"
        },
        "outputId": "d695c9e6-90dd-4111-ce30-a83346946df2",
        "id": "lay1aQTsVtuI"
      },
      "execution_count": null,
      "outputs": [
        {
          "output_type": "stream",
          "name": "stdout",
          "text": [
            "Best params: {'max_depth': 6}\n",
            "bestscore 0.65\n"
          ]
        }
      ]
    },
    {
      "cell_type": "code",
      "source": [
        "model=XGBClassifier(random_state=1)\n",
        "parms={'min_child_weight':[1, 2, 3, 4]}\n",
        "grid_search(model=model,params=parms)"
      ],
      "metadata": {
        "colab": {
          "base_uri": "https://localhost:8080/"
        },
        "outputId": "068084ad-4cf3-4888-e4be-3ad7c32afed5",
        "id": "tAZNXczaVtuI"
      },
      "execution_count": null,
      "outputs": [
        {
          "output_type": "stream",
          "name": "stdout",
          "text": [
            "Best params: {'min_child_weight': 4}\n",
            "bestscore 0.62\n"
          ]
        }
      ]
    },
    {
      "cell_type": "code",
      "source": [
        "model=XGBClassifier(random_state=1)\n",
        "parms={'subsample':[0.2, 0.4, 0.6]}\n",
        "grid_search(model=model,params=parms)"
      ],
      "metadata": {
        "colab": {
          "base_uri": "https://localhost:8080/"
        },
        "outputId": "110484e9-8c4f-4976-85a9-b8bce5fa2f7a",
        "id": "2VykewN6VtuI"
      },
      "execution_count": null,
      "outputs": [
        {
          "output_type": "stream",
          "name": "stdout",
          "text": [
            "Best params: {'subsample': 0.6}\n",
            "bestscore 0.62\n"
          ]
        }
      ]
    },
    {
      "cell_type": "code",
      "source": [
        "model=XGBClassifier(random_state=1)\n",
        "parms={'colsample_bytree':[0.4, 0.6, 0.8]}\n",
        "grid_search(model=model,params=parms)"
      ],
      "metadata": {
        "colab": {
          "base_uri": "https://localhost:8080/"
        },
        "outputId": "97138276-8dd5-4ed4-8d99-4b941b891987",
        "id": "3DZ5u1lyVtuI"
      },
      "execution_count": null,
      "outputs": [
        {
          "output_type": "stream",
          "name": "stdout",
          "text": [
            "Best params: {'colsample_bytree': 0.6}\n",
            "bestscore 0.62\n"
          ]
        }
      ]
    },
    {
      "cell_type": "markdown",
      "source": [
        "random_search"
      ],
      "metadata": {
        "id": "tHNfrK52VtuI"
      }
    },
    {
      "cell_type": "code",
      "source": [
        "model3=XGBClassifier(random_state=2, n_jobs=-1, n_estimators = 300)\n",
        "params={'learning_rate':[0.5, 0.4, 0.6],'min_child_weight':[3,4,5],'max_depth':[6,7,8],\n",
        "        'subsample':[0.6, 0.7, 0.8],'colsample_bytree':[0.5, 0.6, 0.7] }\n",
        "\n",
        "best_model=randomized_search(model3, params)\n",
        "\n",
        "y_pred = best_model.predict(X_test)\n",
        "accuracy = accuracy_score(y_test, y_pred)\n",
        "print('Test score: {:.3f}'.format(accuracy))"
      ],
      "metadata": {
        "colab": {
          "base_uri": "https://localhost:8080/"
        },
        "outputId": "a83419d2-10c8-4e3f-dc3d-2bb1111d0482",
        "id": "6CwmV4nqVtuI"
      },
      "execution_count": null,
      "outputs": [
        {
          "output_type": "stream",
          "name": "stdout",
          "text": [
            "Best params: {'subsample': 0.8, 'min_child_weight': 5, 'max_depth': 6, 'learning_rate': 0.4, 'colsample_bytree': 0.5}\n",
            "Training score: 0.628\n",
            "Test score: 0.633\n"
          ]
        }
      ]
    },
    {
      "cell_type": "code",
      "source": [
        "final_model = XGBClassifier(subsample=0.8, n_estimators= 300, min_child_weight= 5, max_depth=6, \n",
        "                            learning_rate= 0.4, colsample_bytree=0.5)\n",
        "final_model.fit(X_train, y_train)\n",
        "y_pred = final_model.predict(X_test)\n",
        "accuracy = accuracy_score(y_test, y_pred)\n",
        "print('Test score: {:.3f}'.format(accuracy))"
      ],
      "metadata": {
        "colab": {
          "base_uri": "https://localhost:8080/"
        },
        "outputId": "40e50fa0-d607-43c5-862c-7e3df7b389a1",
        "id": "SP5ylJxrVtuJ"
      },
      "execution_count": null,
      "outputs": [
        {
          "output_type": "stream",
          "name": "stdout",
          "text": [
            "Test score: 0.635\n"
          ]
        }
      ]
    },
    {
      "cell_type": "markdown",
      "source": [
        "#### rf"
      ],
      "metadata": {
        "id": "CRJvZJGAV0AU"
      }
    },
    {
      "cell_type": "markdown",
      "source": [
        "grid_search"
      ],
      "metadata": {
        "id": "ENnW2LnyV0AV"
      }
    },
    {
      "cell_type": "code",
      "source": [
        "def grid_search(model, params):\n",
        "    grid_class = GridSearchCV(model, params, scoring='accuracy', cv=5, n_jobs=-1)\n",
        "    \n",
        "    grid_class.fit(X_train, y_train)\n",
        "\n",
        "    best_params = grid_class.best_params_\n",
        "    best_score=grid_class.best_score_\n",
        "\n",
        "    print(\"Best params:\", best_params) \n",
        "    print('bestscore',best_score.round(2))"
      ],
      "metadata": {
        "id": "qFO_CdE_5ZCJ"
      },
      "execution_count": null,
      "outputs": []
    },
    {
      "cell_type": "code",
      "source": [
        "model=RandomForestClassifier(random_state=1)\n",
        "parms={'max_depth':[3, 4, 5, 6]}\n",
        "grid_search(model=model,params=parms)"
      ],
      "metadata": {
        "colab": {
          "base_uri": "https://localhost:8080/"
        },
        "outputId": "6368efa6-a968-4076-a797-271a28115926",
        "id": "hacDk2DcV0AV"
      },
      "execution_count": null,
      "outputs": [
        {
          "output_type": "stream",
          "name": "stdout",
          "text": [
            "Best params: {'max_depth': 6}\n",
            "bestscore 0.56\n"
          ]
        }
      ]
    },
    {
      "cell_type": "code",
      "source": [
        "model=RandomForestClassifier(random_state=1)\n",
        "parms={'min_samples_split':[6,7,8]}\n",
        "grid_search(model=model,params=parms)"
      ],
      "metadata": {
        "colab": {
          "base_uri": "https://localhost:8080/"
        },
        "outputId": "55d32970-81dc-4a61-ebbb-eab437898dba",
        "id": "mLplhcL-V0AW"
      },
      "execution_count": null,
      "outputs": [
        {
          "output_type": "stream",
          "name": "stdout",
          "text": [
            "Best params: {'min_samples_split': 8}\n",
            "bestscore 0.62\n"
          ]
        }
      ]
    },
    {
      "cell_type": "code",
      "source": [
        "model=RandomForestClassifier(random_state=1)\n",
        "parms={'max_features':[0.2, 0.4, 0.6]}\n",
        "grid_search(model=model,params=parms)"
      ],
      "metadata": {
        "colab": {
          "base_uri": "https://localhost:8080/"
        },
        "outputId": "ebc3fc90-eed8-419e-8572-d12ea0d370ff",
        "id": "6bZjSv37V0AW"
      },
      "execution_count": null,
      "outputs": [
        {
          "output_type": "stream",
          "name": "stdout",
          "text": [
            "Best params: {'max_features': 0.6}\n",
            "bestscore 0.67\n"
          ]
        }
      ]
    },
    {
      "cell_type": "markdown",
      "source": [
        "random_search"
      ],
      "metadata": {
        "id": "AaXna52yV0AW"
      }
    },
    {
      "cell_type": "code",
      "source": [
        "model4=RandomForestClassifier(random_state=2, n_jobs=-1 , n_estimators = 300)\n",
        "params={'max_depth':[6,7,8], 'min_samples_split':[7,8,9],'max_features':[0.5, 0.6, 0.7] }\n",
        "\n",
        "best_model=randomized_search(model4, params)\n",
        "\n",
        "y_pred = best_model.predict(X_test)\n",
        "accuracy = accuracy_score(y_test, y_pred)\n",
        "print('Test score: {:.3f}'.format(accuracy))"
      ],
      "metadata": {
        "colab": {
          "base_uri": "https://localhost:8080/"
        },
        "outputId": "0493f47b-5937-4c23-9475-792c7d2c1d09",
        "id": "Nwi4yTwYV0AW"
      },
      "execution_count": null,
      "outputs": [
        {
          "output_type": "stream",
          "name": "stdout",
          "text": [
            "Best params: {'min_samples_split': 7, 'max_features': 0.7, 'max_depth': 8}\n",
            "Training score: 0.592\n",
            "Test score: 0.599\n"
          ]
        }
      ]
    },
    {
      "cell_type": "markdown",
      "source": [
        "최종 성능"
      ],
      "metadata": {
        "id": "rWIp14tdV0AX"
      }
    },
    {
      "cell_type": "code",
      "source": [
        "final_model = RandomForestClassifier(n_estimators= 300, min_samples_split= 7, max_depth=8, max_features=0.7)\n",
        "final_model.fit(X_train, y_train)\n",
        "y_pred = final_model.predict(X_test)\n",
        "accuracy = accuracy_score(y_test, y_pred)\n",
        "print('Test score: {:.3f}'.format(accuracy))\n",
        "\n",
        "#scores = cross_val_score(final_model, X_train, y_train, scoring='accuracy', cv=kfold)\n",
        "#print(\"accuracy: %.3f, +/-%.3f\" %(np.mean(scores),np.std(scores)))"
      ],
      "metadata": {
        "colab": {
          "base_uri": "https://localhost:8080/"
        },
        "outputId": "de436bae-7b61-404d-c568-e7183cf00200",
        "id": "MvPDOjaiV0AX"
      },
      "execution_count": null,
      "outputs": [
        {
          "output_type": "stream",
          "name": "stdout",
          "text": [
            "Test score: 0.595\n"
          ]
        }
      ]
    }
  ]
}