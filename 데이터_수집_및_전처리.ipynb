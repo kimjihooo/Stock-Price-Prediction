{
  "nbformat": 4,
  "nbformat_minor": 0,
  "metadata": {
    "colab": {
      "provenance": [],
      "toc_visible": true
    },
    "kernelspec": {
      "name": "python3",
      "display_name": "Python 3"
    },
    "language_info": {
      "name": "python"
    }
  },
  "cells": [
    {
      "cell_type": "markdown",
      "source": [
        "# 코스피50 주가 예측\n",
        "데이터 출처:\n",
        "http://data.krx.co.kr/contents/MDC/MDI/mdiLoader/index.cmd?menuId=MDC0201010106"
      ],
      "metadata": {
        "id": "tLJ3XROppQmu"
      }
    },
    {
      "cell_type": "markdown",
      "source": [
        "## (1) 데이터"
      ],
      "metadata": {
        "id": "XqwcOAp9wZA7"
      }
    },
    {
      "cell_type": "code",
      "execution_count": null,
      "metadata": {
        "id": "nt-KG2VQpLjz"
      },
      "outputs": [],
      "source": [
        "!pip install finance-datareader"
      ]
    },
    {
      "cell_type": "code",
      "source": [
        "import pandas as pd\n",
        "import numpy as np\n",
        "import FinanceDataReader as fdr\n",
        "code_list = pd.read_csv('/content/drive/MyDrive/데이터/주가예측/data_0550_20221210.csv', encoding='cp949')"
      ],
      "metadata": {
        "id": "Daj-R6J3pTRE"
      },
      "execution_count": null,
      "outputs": []
    },
    {
      "cell_type": "code",
      "source": [
        "pd.set_option('display.max_columns',None)"
      ],
      "metadata": {
        "id": "0edcFu8czwN5"
      },
      "execution_count": null,
      "outputs": []
    },
    {
      "cell_type": "code",
      "source": [
        "def make_code(x):\n",
        "    x = str(x)\n",
        "    return '0'*(6-len(x)) + x"
      ],
      "metadata": {
        "id": "AOTuv9_VpqDy"
      },
      "execution_count": null,
      "outputs": []
    },
    {
      "cell_type": "code",
      "source": [
        "code_list['종목코드'] = code_list['종목코드'].apply(make_code)"
      ],
      "metadata": {
        "id": "T312PXtdp2FY"
      },
      "execution_count": null,
      "outputs": []
    },
    {
      "cell_type": "code",
      "source": [
        "code_list = code_list['종목코드']"
      ],
      "metadata": {
        "id": "AYbAwBEwr2bT"
      },
      "execution_count": null,
      "outputs": []
    },
    {
      "cell_type": "markdown",
      "source": [
        "### 데이터 만들기(train, val)"
      ],
      "metadata": {
        "id": "O5Ls8A6pthzy"
      }
    },
    {
      "cell_type": "code",
      "source": [
        "merge_stock_list =[]\n",
        "for code in code_list: \n",
        "    stock_data = fdr.DataReader(code, '20191201','20221130').reset_index()\n",
        "    stock_data[['Open1', 'High1', 'Low1', 'Close1', 'Volume1', 'Change1']] = stock_data[['Open', 'High', 'Low', 'Close', 'Volume', 'Change']].shift(1)\n",
        "    stock_data[['Open3', 'High3', 'Low3', 'Close3', 'Volume3', 'Change3']] = stock_data[['Open', 'High', 'Low', 'Close', 'Volume', 'Change']].shift(3)\n",
        "    stock_data[['Open7', 'High7', 'Low7', 'Close7', 'Volume7', 'Change7']] = stock_data[['Open', 'High', 'Low', 'Close', 'Volume', 'Change']].shift(7)\n",
        "    stock_list = stock_data.values.tolist()\n",
        "\n",
        "    for row in stock_list:                   # 불러온 주가 데이터를 1줄씩 불러옴\n",
        "        row.append(code)                     # 주가 데이터에 기업 코드를 추가    \n",
        "        merge_stock_list.append(row)"
      ],
      "metadata": {
        "id": "n6e1994R0Xtw"
      },
      "execution_count": null,
      "outputs": []
    },
    {
      "cell_type": "code",
      "source": [
        "train2 = pd.DataFrame(merge_stock_list,  columns = ['date', 'Open', 'High', 'Low', 'Close', 'Volume', 'Change',\n",
        "                                                    'Open1', 'High1', 'Low1', 'Close1', 'Volume1', 'Change1',\n",
        "                                                    'Open3', 'High3', 'Low3', 'Close3', 'Volume3', 'Change3', \n",
        "                                                    'Open7', 'High7', 'Low7', 'Close7', 'Volume7', 'Change7', 'code'] )"
      ],
      "metadata": {
        "id": "ZcN3D7br1Gep"
      },
      "execution_count": null,
      "outputs": []
    },
    {
      "cell_type": "code",
      "source": [
        "df = train2[train2['date'] >= '2020-01-01']"
      ],
      "metadata": {
        "id": "TFDT-A7z2ZW2"
      },
      "execution_count": null,
      "outputs": []
    },
    {
      "cell_type": "code",
      "source": [
        "df.dropna(inplace = True, axis = 0)"
      ],
      "metadata": {
        "id": "dOjBbio14KAB"
      },
      "execution_count": null,
      "outputs": []
    },
    {
      "cell_type": "code",
      "source": [
        "df.reset_index(inplace = True, drop = True)"
      ],
      "metadata": {
        "id": "E2uwWTBn4Usg"
      },
      "execution_count": null,
      "outputs": []
    },
    {
      "cell_type": "code",
      "source": [
        "df.isna().sum().sum()"
      ],
      "metadata": {
        "colab": {
          "base_uri": "https://localhost:8080/"
        },
        "id": "ysJrmhqo3IuD",
        "outputId": "7effb6a3-af3d-4800-8c23-53a4cbf76f58"
      },
      "execution_count": null,
      "outputs": [
        {
          "output_type": "execute_result",
          "data": {
            "text/plain": [
              "0"
            ]
          },
          "metadata": {},
          "execution_count": 106
        }
      ]
    },
    {
      "cell_type": "code",
      "source": [
        "df.shape"
      ],
      "metadata": {
        "colab": {
          "base_uri": "https://localhost:8080/"
        },
        "id": "npst50sk3IzR",
        "outputId": "5d0d4560-19c6-4fa9-eb1b-f7314dc47d84"
      },
      "execution_count": null,
      "outputs": [
        {
          "output_type": "execute_result",
          "data": {
            "text/plain": [
              "(33271, 26)"
            ]
          },
          "metadata": {},
          "execution_count": 107
        }
      ]
    },
    {
      "cell_type": "markdown",
      "source": [
        "### 파생변수"
      ],
      "metadata": {
        "id": "_by8d2aO8utN"
      }
    },
    {
      "cell_type": "markdown",
      "source": [
        "y 상승 1, 하락 0 예측"
      ],
      "metadata": {
        "id": "YU2GrDzYxgBO"
      }
    },
    {
      "cell_type": "code",
      "source": [
        "df['increase'] = np.where(df['Change'] > 0, 1, 0) "
      ],
      "metadata": {
        "id": "ziQoTpZ2wimO"
      },
      "execution_count": null,
      "outputs": []
    },
    {
      "cell_type": "code",
      "source": [
        "df['increase'].value_counts()"
      ],
      "metadata": {
        "colab": {
          "base_uri": "https://localhost:8080/"
        },
        "id": "xkCeuUgZxFNV",
        "outputId": "6fd20e0b-0106-4b83-a56d-9e3c64f290ff"
      },
      "execution_count": null,
      "outputs": [
        {
          "output_type": "execute_result",
          "data": {
            "text/plain": [
              "0    17834\n",
              "1    15437\n",
              "Name: increase, dtype: int64"
            ]
          },
          "metadata": {},
          "execution_count": 111
        }
      ]
    },
    {
      "cell_type": "markdown",
      "source": [
        "시가 종가 차이"
      ],
      "metadata": {
        "id": "rVFnxf1G5Vir"
      }
    },
    {
      "cell_type": "code",
      "source": [
        "df['diff_se1'] = df['Open1'] - df['Close1']\n",
        "df['diff_se3'] = df['Open3'] - df['Close3']\n",
        "df['diff_se7'] = df['Open7'] - df['Close7']"
      ],
      "metadata": {
        "id": "YwsqfxkC474e"
      },
      "execution_count": null,
      "outputs": []
    },
    {
      "cell_type": "markdown",
      "source": [
        "고가 저가 차이"
      ],
      "metadata": {
        "id": "CrcvJSX25igb"
      }
    },
    {
      "cell_type": "code",
      "source": [
        "df['diff_lh1'] = df['Low1'] - df['High1']\n",
        "df['diff_lh3'] = df['Low3'] - df['High3']\n",
        "df['diff_lh7'] = df['Low7'] - df['High7']"
      ],
      "metadata": {
        "id": "B96wR23i5f8h"
      },
      "execution_count": null,
      "outputs": []
    },
    {
      "cell_type": "markdown",
      "source": [
        "1, 3, 7일의 종가 변화"
      ],
      "metadata": {
        "id": "CXxMMHZa57Yt"
      }
    },
    {
      "cell_type": "code",
      "source": [
        "close_array = []\n",
        "for i in range(len(df)):\n",
        "  x = [1, 3, 7]\n",
        "  y = [df.iloc[i,10],df.iloc[i,16], df.iloc[i,22]]\n",
        "  fit_line = np.polyfit(x, y, 1)\n",
        "  close_array.append(fit_line[0])"
      ],
      "metadata": {
        "id": "WSrHBxg556yl"
      },
      "execution_count": null,
      "outputs": []
    },
    {
      "cell_type": "code",
      "source": [
        "df['close_variation'] = close_array"
      ],
      "metadata": {
        "id": "WdU-jAY_741Y"
      },
      "execution_count": null,
      "outputs": []
    },
    {
      "cell_type": "markdown",
      "source": [
        "1, 3, 7일의 규모 변화"
      ],
      "metadata": {
        "id": "-3pOoQwf62sO"
      }
    },
    {
      "cell_type": "code",
      "source": [
        "volume_array = []\n",
        "for i in range(len(df)):\n",
        "  x = [1, 3, 7]\n",
        "  y = [df.iloc[i,11],df.iloc[i,17], df.iloc[i,23]]\n",
        "  fit_line = np.polyfit(x, y, 1)\n",
        "  volume_array.append(fit_line[0])"
      ],
      "metadata": {
        "id": "PhPN9Jjs8PLo"
      },
      "execution_count": null,
      "outputs": []
    },
    {
      "cell_type": "code",
      "source": [
        "df['volume_variation'] = volume_array"
      ],
      "metadata": {
        "id": "EM6NeiuN8YNJ"
      },
      "execution_count": null,
      "outputs": []
    },
    {
      "cell_type": "markdown",
      "source": [
        "전날 코스피 지수"
      ],
      "metadata": {
        "id": "6Y-3PRMJ9Tjt"
      }
    },
    {
      "cell_type": "code",
      "source": [
        "kospi = fdr.DataReader('KS11', '2019-12-01').reset_index()\n",
        "kospi[['kospi_close1']] = kospi[['Close']].shift(1)\n",
        "\n",
        "kospi.drop(['Open', 'High', 'Low', 'Adj Close', 'Volume', 'Close'], inplace = True, axis= 1)\n",
        "kospi.columns = ['date', 'kospi_close1']"
      ],
      "metadata": {
        "id": "kskyMdWR86CQ"
      },
      "execution_count": null,
      "outputs": []
    },
    {
      "cell_type": "code",
      "source": [
        "df = pd.merge(df, kospi,on='date', how= 'left' )"
      ],
      "metadata": {
        "id": "zdylEyPE-0Yh"
      },
      "execution_count": null,
      "outputs": []
    },
    {
      "cell_type": "markdown",
      "source": [
        "달러당 원화 환율"
      ],
      "metadata": {
        "id": "zabr7__4ADkc"
      }
    },
    {
      "cell_type": "code",
      "source": [
        "import datetime\n",
        "df['date'] = pd.to_datetime(df['date'])"
      ],
      "metadata": {
        "id": "iTnVk0GL9JPM"
      },
      "execution_count": null,
      "outputs": []
    },
    {
      "cell_type": "code",
      "source": [
        "dollar = fdr.DataReader('USD/KRW', '2019-12-01').reset_index()\n",
        "dollar[['USD/KRW1']] = dollar[['Close']].shift(1)\n",
        "\n",
        "dollar.drop(['Open', 'High', 'Low', 'Adj Close', 'Volume', 'Close'], inplace = True, axis= 1)\n",
        "dollar.columns = ['date', 'USD/KRW1']"
      ],
      "metadata": {
        "id": "gVSLSum8_61V"
      },
      "execution_count": null,
      "outputs": []
    },
    {
      "cell_type": "code",
      "source": [
        "df = pd.merge(df, dollar ,on='date', how= 'left' )"
      ],
      "metadata": {
        "id": "7LVTZuMs81hz"
      },
      "execution_count": null,
      "outputs": []
    },
    {
      "cell_type": "markdown",
      "source": [
        "엔화 원화 환율"
      ],
      "metadata": {
        "id": "ajxwh-pTApoJ"
      }
    },
    {
      "cell_type": "code",
      "source": [
        "jp = fdr.DataReader('JPY/KRW', '2019-12-01').reset_index()\n",
        "jp[['JPY/KRW1']] = jp[['Close']].shift(1)\n",
        "\n",
        "jp.drop(['Open', 'High', 'Low', 'Adj Close', 'Volume', 'Close'], inplace = True, axis= 1)\n",
        "jp.columns = ['date', 'JPY/KRW1']"
      ],
      "metadata": {
        "id": "x1RdY4rZAo_A"
      },
      "execution_count": null,
      "outputs": []
    },
    {
      "cell_type": "code",
      "source": [
        "df = pd.merge(df, jp ,on='date', how= 'left' )"
      ],
      "metadata": {
        "id": "M9oWjYxD_UKI"
      },
      "execution_count": null,
      "outputs": []
    },
    {
      "cell_type": "markdown",
      "source": [
        "비트코인 원화 가격"
      ],
      "metadata": {
        "id": "DAjdVaqYAhAT"
      }
    },
    {
      "cell_type": "code",
      "source": [
        "coin = fdr.DataReader('BTC/KRW', '2019-12-01').reset_index()\n",
        "coin[['BTC/KRW1']] = coin[['Close']].shift(1)\n",
        "\n",
        "coin.drop(['Open', 'High', 'Low', 'Adj Close', 'Volume', 'Close'], inplace = True, axis= 1)\n",
        "coin.columns = ['date','BTC/KRW1']"
      ],
      "metadata": {
        "id": "v2OwQRK4_oFe"
      },
      "execution_count": null,
      "outputs": []
    },
    {
      "cell_type": "code",
      "source": [
        "df = pd.merge(df, coin ,on='date', how= 'left' )"
      ],
      "metadata": {
        "id": "RLQv9TXr_oFf"
      },
      "execution_count": null,
      "outputs": []
    },
    {
      "cell_type": "markdown",
      "source": [
        "### 결측치"
      ],
      "metadata": {
        "id": "KT72tXDQBeM4"
      }
    },
    {
      "cell_type": "code",
      "source": [
        "df.dropna(axis = 0, inplace = True)\n",
        "df.reset_index(inplace = True, drop = True)"
      ],
      "metadata": {
        "id": "DxEK1W5T__gF"
      },
      "execution_count": null,
      "outputs": []
    },
    {
      "cell_type": "code",
      "source": [
        "df.isna().sum().sum()"
      ],
      "metadata": {
        "colab": {
          "base_uri": "https://localhost:8080/"
        },
        "id": "9D6ymSB6_LnL",
        "outputId": "4eb679a7-1507-4def-ac25-702f11b47e47"
      },
      "execution_count": null,
      "outputs": [
        {
          "output_type": "execute_result",
          "data": {
            "text/plain": [
              "0"
            ]
          },
          "metadata": {},
          "execution_count": 29
        }
      ]
    },
    {
      "cell_type": "markdown",
      "source": [
        "### 변수선택"
      ],
      "metadata": {
        "id": "RjnlSJOtBjMa"
      }
    },
    {
      "cell_type": "code",
      "source": [
        "df = df[['code','date', 'increase',\n",
        "      'Open1', 'High1', 'Low1', 'Close1', 'Volume1', 'Change1', \n",
        "      'Open3', 'High3','Low3', 'Close3', 'Volume3', 'Change3',\n",
        "      'Open7', 'High7', 'Low7','Close7', 'Volume7', 'Change7', \n",
        "      'diff_se1', 'diff_se3', 'diff_se7', 'diff_lh1', 'diff_lh3', 'diff_lh7',\n",
        "      'close_variation', 'volume_variation', \n",
        "      'kospi_close1', 'USD/KRW1', 'JPY/KRW1', 'BTC/KRW1']]"
      ],
      "metadata": {
        "id": "TmDgqN4qAe33"
      },
      "execution_count": null,
      "outputs": []
    }
  ]
}